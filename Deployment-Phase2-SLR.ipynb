{
 "cells": [
  {
   "cell_type": "code",
   "execution_count": 6,
   "id": "353b49b8-6b67-477e-a057-6352d9d520b5",
   "metadata": {},
   "outputs": [],
   "source": [
    "import pickle #is a function to save a file and can load them in different python session"
   ]
  },
  {
   "cell_type": "code",
   "execution_count": 5,
   "id": "7a3129d7-287d-4d05-80f2-13d5cdbd4941",
   "metadata": {},
   "outputs": [
    {
     "name": "stderr",
     "output_type": "stream",
     "text": [
      "C:\\ProgramData\\anaconda3\\Lib\\site-packages\\sklearn\\base.py:493: UserWarning: X does not have valid feature names, but LinearRegression was fitted with feature names\n",
      "  warnings.warn(\n"
     ]
    }
   ],
   "source": [
    "#to load a model for deployment\n",
    "loaded_model=pickle.load(open(\"Finalized_model_linear.sav\",'rb'))\n",
    "result=loaded_model.predict([[10]])"
   ]
  },
  {
   "cell_type": "code",
   "execution_count": 3,
   "id": "f22ef0d9-585b-46c0-bb42-1212a34b0605",
   "metadata": {},
   "outputs": [
    {
     "data": {
      "text/plain": [
       "array([[120380.00420313]])"
      ]
     },
     "execution_count": 3,
     "metadata": {},
     "output_type": "execute_result"
    }
   ],
   "source": [
    "result"
   ]
  },
  {
   "cell_type": "code",
   "execution_count": null,
   "id": "f59f1c02-caa2-4d33-811b-788d81594b43",
   "metadata": {},
   "outputs": [],
   "source": []
  }
 ],
 "metadata": {
  "kernelspec": {
   "display_name": "Python 3 (ipykernel)",
   "language": "python",
   "name": "python3"
  },
  "language_info": {
   "codemirror_mode": {
    "name": "ipython",
    "version": 3
   },
   "file_extension": ".py",
   "mimetype": "text/x-python",
   "name": "python",
   "nbconvert_exporter": "python",
   "pygments_lexer": "ipython3",
   "version": "3.12.4"
  }
 },
 "nbformat": 4,
 "nbformat_minor": 5
}
